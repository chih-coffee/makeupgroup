{
 "cells": [
  {
   "cell_type": "markdown",
   "metadata": {},
   "source": [
    "模組"
   ]
  },
  {
   "cell_type": "code",
   "execution_count": null,
   "metadata": {},
   "outputs": [],
   "source": [
    "import requests\n",
    "from bs4 import BeautifulSoup\n",
    "# import pandas as pd\n",
    "from snownlp import SnowNLP\n",
    "import csv\n",
    "from time import sleep\n",
    "from random import uniform"
   ]
  },
  {
   "cell_type": "markdown",
   "metadata": {},
   "source": [
    "頭"
   ]
  },
  {
   "cell_type": "code",
   "execution_count": null,
   "metadata": {},
   "outputs": [],
   "source": [
    "headers = {'User-Agent': 'Mozilla/5.0 (Windows NT 10.0; Win64; x64) AppleWebKit/537.36 (KHTML, like Gecko) Chrome/120.0.0.0 Safari/537.36'}"
   ]
  },
  {
   "cell_type": "markdown",
   "metadata": {},
   "source": [
    "連結抓取"
   ]
  },
  {
   "cell_type": "code",
   "execution_count": null,
   "metadata": {},
   "outputs": [],
   "source": [
    "def fetch_url(url):\n",
    "    return requests.get(url, headers=headers)"
   ]
  },
  {
   "cell_type": "markdown",
   "metadata": {},
   "source": [
    "抓取內文"
   ]
  },
  {
   "cell_type": "code",
   "execution_count": null,
   "metadata": {},
   "outputs": [],
   "source": [
    "def parse_article_details(soup):#內文\n",
    "    try:\n",
    "        header = soup.find_all('span', 'article-meta-value')\n",
    "        title = header[2].text\n",
    "        main_container = soup.find(id='main-container')\n",
    "        all_text = main_container.text.split('--')[0]\n",
    "        #去頭\n",
    "        contents = all_text.split('\\n')[2:]\n",
    "        content = '\\n'.join(contents)\n",
    "        s = SnowNLP(content)\n",
    "        summary = s.summary(3)  # 提取三個關鍵句子\n",
    "        sentiment = s.sentiments  # 情感分析\n",
    "        return {'標題': title, '內容': content, '關鍵句子': summary, '情感分析': sentiment}\n",
    "    except Exception as e:\n",
    "        return {'錯誤': str(e)}"
   ]
  },
  {
   "cell_type": "markdown",
   "metadata": {},
   "source": [
    "抓取標題，並形成字典"
   ]
  },
  {
   "cell_type": "code",
   "execution_count": null,
   "metadata": {},
   "outputs": [],
   "source": [
    "def get_articles_from_page(page_number):\n",
    "    articles_data = []\n",
    "    base_url = \"https://www.ptt.cc\"\n",
    "    url = f\"{base_url}/bbs/MakeUp/index{page_number}.html\"\n",
    "    response = fetch_url(url)\n",
    "    soup = BeautifulSoup(response.text, \"html.parser\")\n",
    "\n",
    "    sections = soup.select('div.r-ent')\n",
    "    keys = [\"[選擇]\", \"[心得]\", \"[妝容]\"]\n",
    "    for section in sections:\n",
    "        num = section.find('div', class_=\"nrec\").text\n",
    "        if num == '爆' or (num.isdigit() and int(num) >= 10):\n",
    "            title = section.select('div.title')[0].text.strip()\n",
    "            for key in keys:\n",
    "                if key in title:\n",
    "                    link = section.find('a')['href']\n",
    "                    article_soup = fetch_url(base_url + link).text\n",
    "                    article_details = parse_article_details(BeautifulSoup(article_soup, \"html.parser\"))\n",
    "                    article_details['類別'] = key.strip('[]')\n",
    "                    article_details['人氣'] = num\n",
    "                    article_details['日期'] = section.find(\"div\", class_=\"date\").text\n",
    "                    articles_data.append(article_details)\n",
    "    return articles_data"
   ]
  },
  {
   "cell_type": "markdown",
   "metadata": {},
   "source": [
    "main主程式（決定頁數）"
   ]
  },
  {
   "cell_type": "code",
   "execution_count": null,
   "metadata": {},
   "outputs": [],
   "source": [
    "start_page = 3850\n",
    "end_page = 3851\n",
    "\n",
    "all_articles = []\n",
    "for page in range(start_page, end_page + 1):\n",
    "    all_articles.extend(get_articles_from_page(page))\n",
    "    sleep(uniform(0.4,1))"
   ]
  },
  {
   "cell_type": "markdown",
   "metadata": {},
   "source": [
    "輸出檔案"
   ]
  },
  {
   "cell_type": "code",
   "execution_count": null,
   "metadata": {},
   "outputs": [],
   "source": [
    "filenames=[\"標題\",\"類別\",\"內容\",\"人氣\",\"日期\",\"關鍵句子\",\"情感分析\"]\n",
    "file=open(\"demo.csv\",\"a+\")\n",
    "writor=csv.DictWriter(file,fieldnames=filenames)\n",
    "writor.writerows(all_articles)"
   ]
  }
 ],
 "metadata": {
  "kernelspec": {
   "display_name": ".venv",
   "language": "python",
   "name": "python3"
  },
  "language_info": {
   "name": "python",
   "version": "3.11.5"
  }
 },
 "nbformat": 4,
 "nbformat_minor": 2
}
